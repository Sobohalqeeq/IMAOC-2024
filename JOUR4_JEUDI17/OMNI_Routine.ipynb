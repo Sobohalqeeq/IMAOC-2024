{
 "cells": [
  {
   "cell_type": "markdown",
   "id": "b2b8efea-9754-4c38-b1a5-9b1f13e0bb5f",
   "metadata": {},
   "source": [
    "### Fun facts"
   ]
  },
  {
   "cell_type": "markdown",
   "id": "25c23ee0-3309-4156-9c51-ca9bff23572e",
   "metadata": {},
   "source": [
    "<div style=\"background-color:#f0f8ff; padding: 10px; border-radius: 10px; font-family: Arial, sans-serif;\">\n",
    "\n",
    "### 🌟 **Magnetic Reconnection and Solar Eruptions** 🌟\n",
    "\n",
    "**Magnetic reconnection** is a process that happens continuously in space plasmas. However, during large **solar eruptions**, such as **Coronal Mass Ejections (CMEs)**, this process becomes more intense and **effective**, leading to a stronger transfer of energy and particles into Earth's magnetosphere.\n",
    "\n",
    "---\n"
   ]
  },
  {
   "cell_type": "markdown",
   "id": "516e32fc-2729-425c-ac9a-8781e5e6dfb8",
   "metadata": {},
   "source": [
    "![https://aminoapps.com/c/science/page/blog/aurora-borealis/DjCP_uMXYVzejRGlxMVXklJ04n1w8V](https://pa1.aminoapps.com/6350/e2f8c1c67d8cec133bdf7ce9770c24e9f8e2c6bf_hq.gif)\n"
   ]
  },
  {
   "cell_type": "markdown",
   "id": "e33b8613-8628-45b1-8ed8-5909dc7fd5ff",
   "metadata": {},
   "source": [
    "### ✨ **Aurora: The Visible Result** ✨\n",
    "\n",
    "When energetic particles enter the magnetosphere through magnetic reconnection, they funnel towards Earth's **polar regions**, where they interact with the **upper atmosphere**. This interaction produces the **beautiful auroras** 🌌 — shimmering lights that dance across the sky in **greens, reds, and purples**, especially visible in the **Arctic** and **Antarctic** regions.\n",
    "\n",
    "</div>\n"
   ]
  },
  {
   "cell_type": "markdown",
   "id": "a8137a24-99f5-4f32-9ef4-30738fd2ea79",
   "metadata": {},
   "source": [
    "<div style=\"background-color:#e6f7ff; padding: 15px; border-radius: 10px; font-family: Arial, sans-serif; color: #333;\">\n",
    "\n",
    "### 🌌 **Aurora Reaching Low Altitudes** 🌌\n",
    "\n",
    "Under particularly strong solar events, like **Coronal Mass Ejections (CMEs)**, the **aurora** can extend much further south, reaching **lower altitudes** than usual. \n",
    "\n",
    "---\n",
    "\n",
    "### 📸 **Aurora in Brittany, France** 📸\n",
    "\n",
    "This incredible photo was taken in the **Brittany region of France** on **October 10th, 2024**, during a powerful **CME event**. The aurora was visible at unusually low latitudes, giving people in this region a rare chance to witness the beautiful **auroral lights** from such a southern location. \n",
    "\n",
    "> *\"Even at lower latitudes, the aurora painted the sky with vibrant hues of green and purple!\"*\n",
    "\n",
    "</div>\n"
   ]
  },
  {
   "cell_type": "markdown",
   "id": "ab2fbd73-e69a-4053-a06d-d5c750620055",
   "metadata": {},
   "source": [
    "!['𝑨𝑼𝑹𝑶𝑹𝑬𝑺 𝑩𝑶𝑹𝑬𝑨𝑳𝑬𝑺 - Mont Saint-Michel de Brasparts\n",
    "Une tempête géomagnétique a touché ces dernières heures la Terre et on a pu profiter du spectacle fascinant des aurores boréales jusqu'à nos latitudes !\n",
    "𝑀𝑎𝑡ℎ𝑖𝑒𝑢 𝑅𝑖𝑣𝑟𝑖𝑛-x](https://pbs.twimg.com/media/GZkjxWWXUAEK9re?format=png&name=900x900)\n"
   ]
  },
  {
   "cell_type": "markdown",
   "id": "bc837cd1-9441-4042-bbdb-c31878f12cc6",
   "metadata": {},
   "source": [
    "*Photo credit: Mathieu Rivrin*"
   ]
  },
  {
   "cell_type": "markdown",
   "id": "0e0ce0da-0acc-4884-ae88-8fd22d99a2ce",
   "metadata": {},
   "source": [
    "## Historical CMEs and Solar Flares: Big Events\n",
    "1. **The Carrington Event (1859)**: This was the most powerful geomagnetic storm on record. A massive CME hit Earth, causing spectacular auroras visible as far south as the Caribbean and knocking out telegraph systems worldwide.\n",
    "\n",
    "2. **The Quebec Blackout (1989)**: A powerful CME caused a geomagnetic storm that knocked out Quebec’s electrical grid for 9 hours. Auroras were visible as far south as Texas and Florida.\n",
    "\n",
    "3. **The Halloween Storms (2003)**: A series of CMEs and solar flares caused severe geomagnetic storms in late October and early November. Satellites were damaged, GPS systems were disrupted, and auroras were visible even at mid-latitudes.\n",
    "\n",
    "\n",
    "## CMEs and Solar Flares: Harmful Effects on Earth\n",
    "1. **Solar Flares and Communication Disruptions**: Intense solar flares can cause radio blackouts by disrupting the ionosphere. This can severely affect GPS signals, aviation communication, and military operations.\n",
    "   \n",
    "2. **CME-Induced Power Grid Failures**: CMEs can induce strong geomagnetic currents in Earth's magnetic field. These can overload transformers and cause widespread blackouts, like the 1989 Quebec Blackout.\n",
    "\n",
    "3. **Satellite Damage**: Both solar flares and CMEs can affect satellites by causing radiation damage to their electronics and altering their orbits due to increased atmospheric drag from the heating of Earth's upper atmosphere.\n",
    "\n",
    "4. **Astronaut Safety**: During solar storms, astronauts in space can be exposed to dangerous levels of radiation, which is why space agencies closely monitor solar activity.\n",
    "\n",
    "5. **The Starlink Satellite Loss (2022)**: In February 2022, a relatively small CME caused geomagnetic storms that led to the failure of 40 Starlink satellites shortly after their launch. The increased drag from the heated atmosphere due to the storm caused the satellites to re-enter and burn up in Earth's atmosphere.\n",
    "\n",
    "\n"
   ]
  },
  {
   "cell_type": "markdown",
   "id": "74a2daa5-bbf6-449f-90c1-2c6aff4122e0",
   "metadata": {},
   "source": [
    "<div style=\"background-color:#f0f9ff; padding: 20px; border-radius: 10px; font-family: Arial, sans-serif; color: #444;\">\n",
    "\n",
    "### 🌞 **Tracking Coronal Mass Ejections (CMEs) and Aurora** 🌞\n",
    "\n",
    "**Coronal Mass Ejections (CMEs)** are powerful bursts of solar wind and magnetic fields rising from the Sun's atmosphere. These solar eruptions can reach Earth in as little as 18 hours if they are fast enough, driving intense **magnetic reconnection** and creating stunning **auroras**.\n",
    "\n",
    "---\n",
    "### 🛰️ **Satellites Used to Predict CMEs** 🛰️\n",
    "\n",
    "Several satellites and spacecraft called OMNI help us monitor and predict **solar activity** at **L1 Lagrange Point** some of them:\n",
    "\n",
    "1. **SOHO (Solar and Heliospheric Observatory)**  \n",
    "   - Positioned at the **L1 Lagrange Point**, SOHO continuously observes the Sun, capturing **images of solar flares and CMEs**. It provides early warning of solar eruptions through **coronagraph images**.\n",
    "\n",
    "\n",
    "2. **ACE (Advanced Composition Explorer)**  \n",
    "   - Also located at **L1**, ACE monitors **solar wind parameters**, such as **plasma speed, density, and magnetic fields**, providing data just before CMEs hit Earth.\n",
    "\n",
    "4. **DSCOVR (Deep Space Climate Observatory)**  \n",
    "   - DSCOVR measures the **real-time solar wind** at L1, delivering critical information about incoming solar storms and CMEs, similar to ACE.\n",
    "\n",
    "\n"
   ]
  },
  {
   "cell_type": "markdown",
   "id": "a33542c9",
   "metadata": {},
   "source": [
    "# OMNI solar wind observation "
   ]
  },
  {
   "cell_type": "markdown",
   "id": "73723e96",
   "metadata": {},
   "source": [
    "### 1- Loading the necesary libraries "
   ]
  },
  {
   "cell_type": "code",
   "execution_count": 41,
   "id": "b84b92f1",
   "metadata": {},
   "outputs": [],
   "source": [
    "import pyspedas\n",
    "import numpy as np\n",
    "import pytplot\n",
    "from pytplot import tplot,timebar ,tplot_names,tlimit\n",
    "from pytplot import get_data, store_data, options, tplot_options,get,store\n",
    "from pyspedas import tinterpol\n",
    "import matplotlib.pyplot as plt\n",
    "from pyspedas import time_datetime\n"
   ]
  },
  {
   "cell_type": "code",
   "execution_count": 42,
   "id": "9044b8df",
   "metadata": {},
   "outputs": [],
   "source": [
    "%matplotlib qt"
   ]
  },
  {
   "cell_type": "markdown",
   "id": "e76016cb",
   "metadata": {},
   "source": [
    "### Event time interval"
   ]
  },
  {
   "cell_type": "markdown",
   "id": "6e1751ef-0323-4d51-80da-978fc4b09c66",
   "metadata": {},
   "source": [
    "<div style=\"background-color:#fff7e6; padding: 20px; border-radius: 10px; font-family: Arial, sans-serif; color: #333;\">\n",
    "\n",
    "### 🌞 **CME Lights Up the Sky, Aurora Reaches Paris** 🌞\n",
    "\n",
    "In May 2024, a **CME** lit up the skies with beautiful auroras, which were visible as far south as **Paris**! 🌍✨\n",
    "\n",
    "---\n",
    "\n",
    "### 🛰️ **Time for Data Analysis!** 🛰️\n",
    "\n",
    "Let’s dive into this event and gather important **plasma parameters** to better understand how the **solar wind** and Earth's **magnetosphere** interacted. This is an exciting opportunity to explore space weather in detail! 📊🔬\n",
    "\n",
    "</div>\n"
   ]
  },
  {
   "cell_type": "code",
   "execution_count": 43,
   "id": "9d91cdcb-8797-4c21-af70-ae0bf3ee90dc",
   "metadata": {},
   "outputs": [],
   "source": [
    "trange = ['2024-05-10/12:30', '2024-05-12/06:30']"
   ]
  },
  {
   "cell_type": "raw",
   "id": "4067b84a-b2de-41c4-b2d7-e2e0b05d3df8",
   "metadata": {},
   "source": [
    "trange = ['2015-10-21', '2015-10-22']"
   ]
  },
  {
   "cell_type": "markdown",
   "id": "b0961ce7",
   "metadata": {},
   "source": [
    "### Downloading OMNI data"
   ]
  },
  {
   "cell_type": "code",
   "execution_count": 28,
   "id": "911b9b2d",
   "metadata": {},
   "outputs": [
    {
     "name": "stderr",
     "output_type": "stream",
     "text": [
      "12-Oct-24 16:00:25: Downloading remote index: https://spdf.gsfc.nasa.gov/pub/data/omni/omni_cdaweb/hro2_1min/2024/\n",
      "12-Oct-24 16:00:27: File is current: omni_data/hro2_1min/2024/omni_hro2_1min_20240501_v01.cdf\n",
      "12-Oct-24 16:00:28: Time clip was applied to: IMF\n",
      "12-Oct-24 16:00:28: Time clip was applied to: PLS\n",
      "12-Oct-24 16:00:28: Time clip was applied to: IMF_PTS\n",
      "12-Oct-24 16:00:28: Time clip was applied to: PLS_PTS\n",
      "12-Oct-24 16:00:28: Time clip was applied to: percent_interp\n",
      "12-Oct-24 16:00:28: Time clip was applied to: Timeshift\n",
      "12-Oct-24 16:00:28: Time clip was applied to: RMS_Timeshift\n",
      "12-Oct-24 16:00:28: Time clip was applied to: RMS_phase\n",
      "12-Oct-24 16:00:28: Time clip was applied to: Time_btwn_obs\n",
      "12-Oct-24 16:00:28: Time clip was applied to: F\n",
      "12-Oct-24 16:00:28: Time clip was applied to: BX_GSE\n",
      "12-Oct-24 16:00:28: Time clip was applied to: BY_GSE\n",
      "12-Oct-24 16:00:28: Time clip was applied to: BZ_GSE\n",
      "12-Oct-24 16:00:28: Time clip was applied to: BY_GSM\n",
      "12-Oct-24 16:00:28: Time clip was applied to: BZ_GSM\n",
      "12-Oct-24 16:00:29: Time clip was applied to: RMS_SD_B\n",
      "12-Oct-24 16:00:29: Time clip was applied to: RMS_SD_fld_vec\n",
      "12-Oct-24 16:00:29: Time clip was applied to: flow_speed\n",
      "12-Oct-24 16:00:29: Time clip was applied to: Vx\n",
      "12-Oct-24 16:00:29: Time clip was applied to: Vy\n",
      "12-Oct-24 16:00:29: Time clip was applied to: Vz\n",
      "12-Oct-24 16:00:29: Time clip was applied to: proton_density\n",
      "12-Oct-24 16:00:29: Time clip was applied to: T\n",
      "12-Oct-24 16:00:29: Time clip was applied to: NaNp_Ratio\n",
      "12-Oct-24 16:00:29: Time clip was applied to: Pressure\n",
      "12-Oct-24 16:00:29: Time clip was applied to: E\n",
      "12-Oct-24 16:00:29: Time clip was applied to: Beta\n",
      "12-Oct-24 16:00:29: Time clip was applied to: Mach_num\n",
      "12-Oct-24 16:00:29: Time clip was applied to: Mgs_mach_num\n",
      "12-Oct-24 16:00:29: Time clip was applied to: x\n",
      "12-Oct-24 16:00:29: Time clip was applied to: y\n",
      "12-Oct-24 16:00:29: Time clip was applied to: z\n",
      "12-Oct-24 16:00:29: Time clip was applied to: BSN_x\n",
      "12-Oct-24 16:00:29: Time clip was applied to: BSN_y\n",
      "12-Oct-24 16:00:29: Time clip was applied to: BSN_z\n",
      "12-Oct-24 16:00:29: Time clip was applied to: AE_INDEX\n",
      "12-Oct-24 16:00:29: Time clip was applied to: AL_INDEX\n",
      "12-Oct-24 16:00:29: Time clip was applied to: AU_INDEX\n",
      "12-Oct-24 16:00:29: Time clip was applied to: SYM_D\n",
      "12-Oct-24 16:00:29: Time clip was applied to: SYM_H\n",
      "12-Oct-24 16:00:29: Time clip was applied to: ASY_D\n",
      "12-Oct-24 16:00:29: Time clip was applied to: ASY_H\n"
     ]
    }
   ],
   "source": [
    "omni_vars = pyspedas.omni.data(trange=trange)\n"
   ]
  },
  {
   "cell_type": "code",
   "execution_count": 48,
   "id": "8575566d-8269-48b3-b132-7f7af33dc7a0",
   "metadata": {},
   "outputs": [],
   "source": [
    "tplot('BZ_GSE')"
   ]
  },
  {
   "cell_type": "code",
   "execution_count": 49,
   "id": "6edaaa8d-c097-412e-8bb5-89d8bbaee4ba",
   "metadata": {},
   "outputs": [],
   "source": [
    "from pytplot import join_vec"
   ]
  },
  {
   "cell_type": "code",
   "execution_count": 50,
   "id": "7b9051be-b5b2-4ed6-89a9-208eb68ee685",
   "metadata": {},
   "outputs": [
    {
     "data": {
      "text/plain": [
       "'B_GSE'"
      ]
     },
     "execution_count": 50,
     "metadata": {},
     "output_type": "execute_result"
    }
   ],
   "source": [
    "join_vec(['BX_GSE', 'BY_GSE', 'BZ_GSE'], new_tvar='B_GSE')"
   ]
  },
  {
   "cell_type": "code",
   "execution_count": 52,
   "id": "78b6efe0-a147-4986-8252-b38b2d35531b",
   "metadata": {},
   "outputs": [],
   "source": [
    "options('B_GSE', 'legend_names', ['Bx GSE', 'By GSE', 'Bz GSE'])\n"
   ]
  },
  {
   "cell_type": "code",
   "execution_count": 53,
   "id": "051ac9d9-8e5b-4013-9df3-d8b35c91986d",
   "metadata": {},
   "outputs": [],
   "source": [
    "tplot('B_GSE')"
   ]
  },
  {
   "cell_type": "markdown",
   "id": "e83f7fc5-7ed4-4568-8aae-a255432b189e",
   "metadata": {},
   "source": [
    "#### Excercise: use join_vec function to get the three velocity component in one tplot variable"
   ]
  },
  {
   "cell_type": "code",
   "execution_count": 55,
   "id": "a3c6514e-e04e-48b8-a788-f009fb25fcc0",
   "metadata": {},
   "outputs": [
    {
     "data": {
      "text/plain": [
       "'V_GSE'"
      ]
     },
     "execution_count": 55,
     "metadata": {},
     "output_type": "execute_result"
    }
   ],
   "source": [
    "join_vec(['Vx', 'Vy', 'Vz'], new_tvar='V_GSE')"
   ]
  },
  {
   "cell_type": "code",
   "execution_count": 56,
   "id": "b2744775-16bc-4519-8471-924f1f179d21",
   "metadata": {},
   "outputs": [],
   "source": [
    "options('V_GSE', 'legend_names', ['Vx', 'Vy', 'Vz'])"
   ]
  },
  {
   "cell_type": "code",
   "execution_count": 58,
   "id": "4e4a2325-d2bd-4e8f-bf1a-72661aede09a",
   "metadata": {},
   "outputs": [],
   "source": [
    "tplot('V_GSE')"
   ]
  },
  {
   "cell_type": "markdown",
   "id": "c927e084-51fe-4b32-946c-495b4f70bf5b",
   "metadata": {},
   "source": [
    "### 📊 **Let's Analyze!** 🔍\n",
    "\n",
    "Now, let's plot the **B-field**, **solar wind velocity**, **flow speed**, **proton density**, **plasma beta**, **pressure**, and **SYM-H**. 🚀💻\n"
   ]
  },
  {
   "cell_type": "code",
   "execution_count": 64,
   "id": "560676c8-2466-42b2-a47c-e578cd2b1795",
   "metadata": {},
   "outputs": [],
   "source": [
    "tplot(['B_GSE', 'V_GSE', 'flow_speed', 'proton_density','Beta', 'Pressure','SYM_H'],xsize=12,ysize=16)"
   ]
  },
  {
   "cell_type": "markdown",
   "id": "d5788bce-d4af-4d84-89a3-c6b9d98789c5",
   "metadata": {},
   "source": [
    "### 🔍 **What Do You Observe?** 👀\n"
   ]
  },
  {
   "cell_type": "markdown",
   "id": "1e95a4ac-701b-4d45-b33e-89edfd962410",
   "metadata": {},
   "source": [
    "## This is for the instructor after giving the excercise: "
   ]
  },
  {
   "cell_type": "markdown",
   "id": "b988b774-f86d-43ec-80ef-e4fed0347e9d",
   "metadata": {},
   "source": [
    "### 🔬 **Key CME Indicators** 🚀\n",
    "\n",
    "- **B_GSE (Magnetic Field):**  \n",
    "  Changes in the **magnetic field** can indicate the arrival of a CME, especially when the field gets stronger or changes direction. 📉🧲\n",
    "\n",
    "- **V_GSE (Solar Wind Velocity):**  \n",
    "  A sudden increase in **solar wind speed** means the fast-moving plasma from a CME is hitting Earth! 💨⚡\n",
    "\n",
    "- **Flow Speed:**  \n",
    "  This shows the speed of the **solar wind flow**—it spikes during a CME. 🌬️\n",
    "\n",
    "- **Proton Density:**  \n",
    "  High **proton density** means more particles from the Sun. A big jump? That’s probably a CME candidate! 🌞☄️\n",
    "\n",
    "- **Beta (Plasma Beta):**  \n",
    "  The ratio of plasma pressure to magnetic pressure—large values can suggest a CME is coming. 🔄\n",
    "\n",
    "- **Pressure (Plasma Pressure):**  \n",
    "  CME-driven storms cause a spike in plasma **pressure**. 🌡️\n",
    "\n",
    "- **SYM-H (Geomagnetic Activity):**  \n",
    "  Tracks Earth's geomagnetic field—low values signal a geomagnetic storm from a CME. 🌍🌩️\n",
    "\n",
    "### 🎯 **Look for sudden jumps in these values to spot a CME!** 🚀\n"
   ]
  },
  {
   "cell_type": "code",
   "execution_count": null,
   "id": "dd58e3d6-e67b-45df-a9d9-a2b903f4aba3",
   "metadata": {},
   "outputs": [],
   "source": []
  },
  {
   "cell_type": "code",
   "execution_count": null,
   "id": "0edce3c5-3d29-4b84-be20-4f9b780969a6",
   "metadata": {},
   "outputs": [],
   "source": []
  },
  {
   "cell_type": "code",
   "execution_count": null,
   "id": "61887762-9a34-4682-b6d6-24f82334da83",
   "metadata": {},
   "outputs": [],
   "source": []
  },
  {
   "cell_type": "code",
   "execution_count": null,
   "id": "397fa8fb-ba55-4e11-88fb-bdc64f640fc6",
   "metadata": {},
   "outputs": [],
   "source": []
  },
  {
   "cell_type": "raw",
   "id": "eabaa709-1d7a-4b98-a48f-b5faadd72a11",
   "metadata": {},
   "source": [
    "fields=['BX_GSE','BY_GSE','BZ_GSE']\n",
    "Protondensity=['proton_density']\n",
    "Temp=['T']\n",
    "Velocity=['flow_speed','Vx','Vy','Vz']\n",
    "PlasmaBeta=['Beta']\n",
    "MachNumber=['Mach_num']\n",
    "Pressure=['Pressure']"
   ]
  },
  {
   "cell_type": "raw",
   "id": "18cab61d-a722-4f64-98bc-9c09522e447a",
   "metadata": {},
   "source": [
    "### Data interpolation"
   ]
  },
  {
   "cell_type": "raw",
   "id": "78ca4640-5a06-4af5-b691-8d222e0e06bd",
   "metadata": {},
   "source": [
    "tinterpol(fields[1], fields[0], newname=fields[1] + '_i')\n",
    "tinterpol(fields[2], fields[0], newname=fields[2] + '_i')\n",
    "tinterpol(Protondensity[0], fields[0], newname=Protondensity[0] + '_i')\n",
    "tinterpol(Temp[0], fields[0], newname=Temp[0] + '_i')\n",
    "tinterpol(Velocity[0], fields[0], newname=Velocity[0] + '_i')\n",
    "tinterpol(Velocity[1], fields[0], newname=Velocity[1] + '_i')\n",
    "tinterpol(Velocity[2], fields[0], newname=Velocity[2] + '_i')\n",
    "tinterpol(Velocity[3], fields[0], newname=Velocity[3] + '_i')\n",
    "tinterpol(PlasmaBeta[0], fields[0], newname=PlasmaBeta[0] + '_i')\n",
    "tinterpol(MachNumber[0], fields[0], newname=MachNumber[0] + '_i')\n",
    "tinterpol(Pressure[0], fields[0], newname=Pressure[0] + '_i')\n",
    "\n",
    "\n",
    "\n",
    "\n",
    "#times, datab4 = get_data(fields[3] + '_i')"
   ]
  },
  {
   "cell_type": "raw",
   "id": "f1e5b5c5-b726-4f1c-bc0b-29408858ebb8",
   "metadata": {},
   "source": [
    "times, Bx = get_data(fields[0])\n",
    "times, By = get_data(fields[1] + '_i')\n",
    "times, Bz = get_data(fields[2] + '_i')\n",
    "times, N = get_data(Protondensity[0] + '_i')\n",
    "times, T = get_data(Temp[0] + '_i')\n",
    "times, V = get_data(Velocity[0] + '_i')\n",
    "times, Vx = get_data(Velocity[1] + '_i')\n",
    "times, Vy = get_data(Velocity[2] + '_i')\n",
    "times, Vz = get_data(Velocity[3] + '_i')\n",
    "times, PB = get_data(PlasmaBeta[0] + '_i')\n",
    "times, MA = get_data(MachNumber[0] + '_i')\n",
    "times, Pressure = get_data(Pressure[0] + '_i')\n"
   ]
  }
 ],
 "metadata": {
  "kernelspec": {
   "display_name": "Python 3 (ipykernel)",
   "language": "python",
   "name": "python3"
  },
  "language_info": {
   "codemirror_mode": {
    "name": "ipython",
    "version": 3
   },
   "file_extension": ".py",
   "mimetype": "text/x-python",
   "name": "python",
   "nbconvert_exporter": "python",
   "pygments_lexer": "ipython3",
   "version": "3.9.13"
  }
 },
 "nbformat": 4,
 "nbformat_minor": 5
}
